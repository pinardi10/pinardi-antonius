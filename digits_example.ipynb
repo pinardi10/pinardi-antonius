{
 "cells": [
  {
   "cell_type": "code",
   "execution_count": 5,
   "metadata": {},
   "outputs": [],
   "source": [
    "import numpy as np\n",
    "import matplotlib.pyplot as plt\n",
    "%matplotlib inline \n",
    "import seaborn as sns"
   ]
  },
  {
   "cell_type": "code",
   "execution_count": 4,
   "metadata": {},
   "outputs": [],
   "source": [
    "from sklearn.datasets import load_digits\n",
    "from sklearn.model_selection import train_test_split\n",
    "from mpl_toolkits.mplot3d import Axes3D\n",
    "from sklearn.neural_network import MLPClassifier\n",
    "from sklearn.model_selection import train_test_split\n",
    "from sklearn.metrics import accuracy_score\n",
    "from sklearn.metrics import confusion_matrix\n",
    "from sklearn import datasets\n",
    "from mpl_toolkits.mplot3d import Axes3D\n",
    "from sklearn.decomposition import PCA"
   ]
  },
  {
   "cell_type": "code",
   "execution_count": 10,
   "metadata": {},
   "outputs": [
    {
     "data": {
      "text/plain": [
       "['sepal length (cm)',\n",
       " 'sepal width (cm)',\n",
       " 'petal length (cm)',\n",
       " 'petal width (cm)']"
      ]
     },
     "execution_count": 10,
     "metadata": {},
     "output_type": "execute_result"
    }
   ],
   "source": [
    "iris.feature_names"
   ]
  },
  {
   "cell_type": "code",
   "execution_count": 11,
   "metadata": {},
   "outputs": [],
   "source": [
    "digits = load_digits()\n",
    "iris = datasets.load_iris()"
   ]
  },
  {
   "cell_type": "code",
   "execution_count": 3,
   "metadata": {},
   "outputs": [
    {
     "data": {
      "text/plain": [
       "(1797, 64)"
      ]
     },
     "execution_count": 3,
     "metadata": {},
     "output_type": "execute_result"
    }
   ],
   "source": [
    "digits.data.shape"
   ]
  },
  {
   "cell_type": "code",
   "execution_count": 4,
   "metadata": {},
   "outputs": [
    {
     "data": {
      "text/plain": [
       "array([ 0.,  0., 10., 14., 11.,  3.,  0.,  0.,  0.,  4., 16., 13.,  6.,\n",
       "       14.,  1.,  0.,  0.,  4., 16.,  2.,  0., 11.,  7.,  0.,  0.,  8.,\n",
       "       16.,  0.,  0., 10.,  5.,  0.,  0.,  8., 16.,  0.,  0., 14.,  4.,\n",
       "        0.,  0.,  8., 16.,  0.,  1., 16.,  1.,  0.,  0.,  4., 16.,  1.,\n",
       "       11., 15.,  0.,  0.,  0.,  0., 11., 16., 12.,  3.,  0.,  0.])"
      ]
     },
     "execution_count": 4,
     "metadata": {},
     "output_type": "execute_result"
    }
   ],
   "source": [
    "digits.data[30]\n"
   ]
  },
  {
   "cell_type": "code",
   "execution_count": 15,
   "metadata": {},
   "outputs": [
    {
     "data": {
      "text/plain": [
       "array([0, 1, 2, 3, 4, 5, 6, 7, 8, 9])"
      ]
     },
     "execution_count": 15,
     "metadata": {},
     "output_type": "execute_result"
    }
   ],
   "source": [
    "digits.target_names"
   ]
  },
  {
   "cell_type": "code",
   "execution_count": 8,
   "metadata": {},
   "outputs": [
    {
     "data": {
      "text/plain": [
       "(1797,)"
      ]
     },
     "execution_count": 8,
     "metadata": {},
     "output_type": "execute_result"
    }
   ],
   "source": [
    "digits.target.shape"
   ]
  },
  {
   "cell_type": "code",
   "execution_count": 12,
   "metadata": {},
   "outputs": [
    {
     "data": {
      "text/plain": [
       "0"
      ]
     },
     "execution_count": 12,
     "metadata": {},
     "output_type": "execute_result"
    }
   ],
   "source": [
    "digits.target[30]"
   ]
  },
  {
   "cell_type": "code",
   "execution_count": 34,
   "metadata": {},
   "outputs": [
    {
     "data": {
      "text/plain": [
       "<matplotlib.image.AxesImage at 0x1e4786d6cf8>"
      ]
     },
     "execution_count": 34,
     "metadata": {},
     "output_type": "execute_result"
    },
    {
     "data": {
      "text/plain": [
       "<Figure size 432x288 with 0 Axes>"
      ]
     },
     "metadata": {},
     "output_type": "display_data"
    },
    {
     "data": {
      "image/png": "[encoded data removed]",
      "text/plain": [
       "<Figure size 288x288 with 1 Axes>"
      ]
     },
     "metadata": {
      "needs_background": "light"
     },
     "output_type": "display_data"
    }
   ],
   "source": [
    "import matplotlib.pyplot as plt \n",
    "plt.gray() \n",
    "plt.matshow(digits.images[30]) \n"
   ]
  },
  {
   "cell_type": "code",
   "execution_count": 25,
   "metadata": {},
   "outputs": [],
   "source": [
    "X = digits.data\n",
    "y = digits.target\n",
    "# Membagi data training dan testing(80:20)\n",
    "x_train, x_test, y_train, y_test = train_test_split(X,y, test_size= 0.2, random_state=1)"
   ]
  },
  {
   "cell_type": "code",
   "execution_count": 21,
   "metadata": {},
   "outputs": [
    {
     "data": {
      "text/plain": [
       "(1437, 64)"
      ]
     },
     "execution_count": 21,
     "metadata": {},
     "output_type": "execute_result"
    }
   ],
   "source": [
    "x_train.shape"
   ]
  },
  {
   "cell_type": "code",
   "execution_count": 22,
   "metadata": {},
   "outputs": [
    {
     "data": {
      "text/plain": [
       "(360, 64)"
      ]
     },
     "execution_count": 22,
     "metadata": {},
     "output_type": "execute_result"
    }
   ],
   "source": [
    "x_test.shape"
   ]
  },
  {
   "cell_type": "code",
   "execution_count": 23,
   "metadata": {},
   "outputs": [
    {
     "data": {
      "text/plain": [
       "(1437,)"
      ]
     },
     "execution_count": 23,
     "metadata": {},
     "output_type": "execute_result"
    }
   ],
   "source": [
    "y_train.shape"
   ]
  },
  {
   "cell_type": "code",
   "execution_count": 24,
   "metadata": {},
   "outputs": [
    {
     "data": {
      "text/plain": [
       "(360,)"
      ]
     },
     "execution_count": 24,
     "metadata": {},
     "output_type": "execute_result"
    }
   ],
   "source": [
    "y_test.shape"
   ]
  },
  {
   "cell_type": "code",
   "execution_count": 40,
   "metadata": {},
   "outputs": [
    {
     "data": {
      "text/plain": [
       "(1797, 64)"
      ]
     },
     "execution_count": 40,
     "metadata": {},
     "output_type": "execute_result"
    }
   ],
   "source": [
    "digits.data.shape"
   ]
  },
  {
   "cell_type": "code",
   "execution_count": 87,
   "metadata": {},
   "outputs": [],
   "source": [
    "clf = MLPClassifier(hidden_layer_sizes=(10,10,10),  max_iter=200, alpha=0.0001,activation='relu',\n",
    "                     solver='adam', verbose=10,  random_state=21,tol=0.000000001)"
   ]
  },
  {
   "cell_type": "code",
   "execution_count": 88,
   "metadata": {},
   "outputs": [
    {
     "name": "stdout",
     "output_type": "stream",
     "text": [
      "Iteration 1, loss = 2.79952036\n",
      "Iteration 2, loss = 2.50086655\n",
      "Iteration 3, loss = 2.35573476\n",
      "Iteration 4, loss = 2.26403134\n",
      "Iteration 5, loss = 2.18237554\n",
      "Iteration 6, loss = 2.08904133\n",
      "Iteration 7, loss = 1.98919634\n",
      "Iteration 8, loss = 1.88909007\n",
      "Iteration 9, loss = 1.78891700\n",
      "Iteration 10, loss = 1.69283169\n",
      "Iteration 11, loss = 1.60584737\n",
      "Iteration 12, loss = 1.53189862\n",
      "Iteration 13, loss = 1.46457059\n",
      "Iteration 14, loss = 1.40621288\n",
      "Iteration 15, loss = 1.35195599\n",
      "Iteration 16, loss = 1.30251296\n",
      "Iteration 17, loss = 1.25072222\n",
      "Iteration 18, loss = 1.19898050\n",
      "Iteration 19, loss = 1.14571297\n",
      "Iteration 20, loss = 1.08525969\n",
      "Iteration 21, loss = 1.01907135\n",
      "Iteration 22, loss = 0.95459805\n",
      "Iteration 23, loss = 0.89308013\n",
      "Iteration 24, loss = 0.83541053\n",
      "Iteration 25, loss = 0.77976330\n",
      "Iteration 26, loss = 0.72898665\n",
      "Iteration 27, loss = 0.68052728\n",
      "Iteration 28, loss = 0.63625511\n",
      "Iteration 29, loss = 0.59855313\n",
      "Iteration 30, loss = 0.56079007\n",
      "Iteration 31, loss = 0.52972907\n",
      "Iteration 32, loss = 0.50289183\n",
      "Iteration 33, loss = 0.47700802\n",
      "Iteration 34, loss = 0.45846094\n",
      "Iteration 35, loss = 0.43869050\n",
      "Iteration 36, loss = 0.42305835\n",
      "Iteration 37, loss = 0.40595821\n",
      "Iteration 38, loss = 0.39409086\n",
      "Iteration 39, loss = 0.37877068\n",
      "Iteration 40, loss = 0.36799615\n",
      "Iteration 41, loss = 0.35620217\n",
      "Iteration 42, loss = 0.34415299\n",
      "Iteration 43, loss = 0.33250478\n",
      "Iteration 44, loss = 0.32192781\n",
      "Iteration 45, loss = 0.30891235\n",
      "Iteration 46, loss = 0.29703411\n",
      "Iteration 47, loss = 0.28742694\n",
      "Iteration 48, loss = 0.27812537\n",
      "Iteration 49, loss = 0.27047216\n",
      "Iteration 50, loss = 0.26051271\n",
      "Iteration 51, loss = 0.25050353\n",
      "Iteration 52, loss = 0.24219225\n",
      "Iteration 53, loss = 0.23517074\n",
      "Iteration 54, loss = 0.22569709\n",
      "Iteration 55, loss = 0.21802712\n",
      "Iteration 56, loss = 0.21200376\n",
      "Iteration 57, loss = 0.20548795\n",
      "Iteration 58, loss = 0.20027298\n",
      "Iteration 59, loss = 0.19239289\n",
      "Iteration 60, loss = 0.18682474\n",
      "Iteration 61, loss = 0.18163216\n",
      "Iteration 62, loss = 0.17755570\n",
      "Iteration 63, loss = 0.17173642\n",
      "Iteration 64, loss = 0.16910612\n",
      "Iteration 65, loss = 0.16272213\n",
      "Iteration 66, loss = 0.15922192\n",
      "Iteration 67, loss = 0.15478307\n",
      "Iteration 68, loss = 0.15154351\n",
      "Iteration 69, loss = 0.14652044\n",
      "Iteration 70, loss = 0.14297443\n",
      "Iteration 71, loss = 0.14016956\n",
      "Iteration 72, loss = 0.13640475\n",
      "Iteration 73, loss = 0.13376530\n",
      "Iteration 74, loss = 0.13041346\n",
      "Iteration 75, loss = 0.12772285\n",
      "Iteration 76, loss = 0.12431329\n",
      "Iteration 77, loss = 0.12153439\n",
      "Iteration 78, loss = 0.11911614\n",
      "Iteration 79, loss = 0.11667371\n",
      "Iteration 80, loss = 0.11566774\n",
      "Iteration 81, loss = 0.11129658\n",
      "Iteration 82, loss = 0.10999918\n",
      "Iteration 83, loss = 0.10722883\n",
      "Iteration 84, loss = 0.10672241\n",
      "Iteration 85, loss = 0.10176741\n",
      "Iteration 86, loss = 0.10095384\n",
      "Iteration 87, loss = 0.09871714\n",
      "Iteration 88, loss = 0.09627730\n",
      "Iteration 89, loss = 0.09546379\n",
      "Iteration 90, loss = 0.09306951\n",
      "Iteration 91, loss = 0.09260650\n",
      "Iteration 92, loss = 0.09173811\n",
      "Iteration 93, loss = 0.08821671\n",
      "Iteration 94, loss = 0.08603255\n",
      "Iteration 95, loss = 0.08469007\n",
      "Iteration 96, loss = 0.08275140\n",
      "Iteration 97, loss = 0.08274846\n",
      "Iteration 98, loss = 0.08023872\n",
      "Iteration 99, loss = 0.07873752\n",
      "Iteration 100, loss = 0.07639624\n",
      "Iteration 101, loss = 0.07565711\n",
      "Iteration 102, loss = 0.07471338\n",
      "Iteration 103, loss = 0.07322754\n",
      "Iteration 104, loss = 0.07248219\n",
      "Iteration 105, loss = 0.07093141\n",
      "Iteration 106, loss = 0.06896463\n",
      "Iteration 107, loss = 0.06768214\n",
      "Iteration 108, loss = 0.06704548\n",
      "Iteration 109, loss = 0.06504551\n",
      "Iteration 110, loss = 0.06422688\n",
      "Iteration 111, loss = 0.06278609\n",
      "Iteration 112, loss = 0.06199828\n",
      "Iteration 113, loss = 0.06099576\n",
      "Iteration 114, loss = 0.06029986\n",
      "Iteration 115, loss = 0.05954735\n",
      "Iteration 116, loss = 0.05864768\n",
      "Iteration 117, loss = 0.05752150\n",
      "Iteration 118, loss = 0.05716078\n",
      "Iteration 119, loss = 0.05526296\n",
      "Iteration 120, loss = 0.05547901\n",
      "Iteration 121, loss = 0.05338815\n",
      "Iteration 122, loss = 0.05346653\n",
      "Iteration 123, loss = 0.05160674\n",
      "Iteration 124, loss = 0.05135818\n",
      "Iteration 125, loss = 0.05062505\n",
      "Iteration 126, loss = 0.04983913\n",
      "Iteration 127, loss = 0.05022209\n",
      "Iteration 128, loss = 0.04903898\n",
      "Iteration 129, loss = 0.04684038\n",
      "Iteration 130, loss = 0.04650357\n",
      "Iteration 131, loss = 0.04650563\n",
      "Iteration 132, loss = 0.04476298\n",
      "Iteration 133, loss = 0.04444983\n",
      "Iteration 134, loss = 0.04316641\n",
      "Iteration 135, loss = 0.04302351\n",
      "Iteration 136, loss = 0.04197644\n",
      "Iteration 137, loss = 0.04070279\n",
      "Iteration 138, loss = 0.03994074\n",
      "Iteration 139, loss = 0.04006522\n",
      "Iteration 140, loss = 0.03883311\n",
      "Iteration 141, loss = 0.03842005\n",
      "Iteration 142, loss = 0.03698799\n",
      "Iteration 143, loss = 0.03596964\n",
      "Iteration 144, loss = 0.03590668\n",
      "Iteration 145, loss = 0.03563399\n",
      "Iteration 146, loss = 0.03465566\n",
      "Iteration 147, loss = 0.03362397\n",
      "Iteration 148, loss = 0.03329192\n",
      "Iteration 149, loss = 0.03247544\n",
      "Iteration 150, loss = 0.03205816\n",
      "Iteration 151, loss = 0.03197802\n",
      "Iteration 152, loss = 0.03163625\n",
      "Iteration 153, loss = 0.03139935\n",
      "Iteration 154, loss = 0.03073622\n",
      "Iteration 155, loss = 0.02959203\n",
      "Iteration 156, loss = 0.02946804\n",
      "Iteration 157, loss = 0.02875461\n",
      "Iteration 158, loss = 0.02852454\n",
      "Iteration 159, loss = 0.02802417\n",
      "Iteration 160, loss = 0.02748599\n",
      "Iteration 161, loss = 0.02716407\n",
      "Iteration 162, loss = 0.02692722\n",
      "Iteration 163, loss = 0.02622735\n",
      "Iteration 164, loss = 0.02611205\n",
      "Iteration 165, loss = 0.02552144\n",
      "Iteration 166, loss = 0.02542795\n",
      "Iteration 167, loss = 0.02557407\n",
      "Iteration 168, loss = 0.02470623\n",
      "Iteration 169, loss = 0.02421964\n",
      "Iteration 170, loss = 0.02383354\n",
      "Iteration 171, loss = 0.02347740\n",
      "Iteration 172, loss = 0.02322781\n",
      "Iteration 173, loss = 0.02280789\n",
      "Iteration 174, loss = 0.02280312\n",
      "Iteration 175, loss = 0.02241210\n",
      "Iteration 176, loss = 0.02240269\n",
      "Iteration 177, loss = 0.02180043\n",
      "Iteration 178, loss = 0.02197813\n",
      "Iteration 179, loss = 0.02196045\n",
      "Iteration 180, loss = 0.02118508\n",
      "Iteration 181, loss = 0.02125681\n",
      "Iteration 182, loss = 0.02108505\n",
      "Iteration 183, loss = 0.02069135\n",
      "Iteration 184, loss = 0.02034091\n",
      "Iteration 185, loss = 0.02028041\n",
      "Iteration 186, loss = 0.01994611\n",
      "Iteration 187, loss = 0.01975513\n",
      "Iteration 188, loss = 0.01970323\n",
      "Iteration 189, loss = 0.01933745\n",
      "Iteration 190, loss = 0.01894416\n",
      "Iteration 191, loss = 0.01876005\n",
      "Iteration 192, loss = 0.01856307\n",
      "Iteration 193, loss = 0.01834410\n",
      "Iteration 194, loss = 0.01850638\n",
      "Iteration 195, loss = 0.01836340\n",
      "Iteration 196, loss = 0.01810008\n",
      "Iteration 197, loss = 0.01747900\n",
      "Iteration 198, loss = 0.01763517\n",
      "Iteration 199, loss = 0.01734588\n",
      "Iteration 200, loss = 0.01701719\n"
     ]
    },
    {
     "name": "stderr",
     "output_type": "stream",
     "text": [
      "c:\\users\\user\\miniconda3\\lib\\site-packages\\sklearn\\neural_network\\multilayer_perceptron.py:562: ConvergenceWarning: Stochastic Optimizer: Maximum iterations (200) reached and the optimization hasn't converged yet.\n",
      "  % self.max_iter, ConvergenceWarning)\n"
     ]
    }
   ],
   "source": [
    "clf.fit(x_train, y_train)\n",
    "y_pred = clf.predict(x_test)"
   ]
  },
  {
   "cell_type": "code",
   "execution_count": 89,
   "metadata": {},
   "outputs": [],
   "source": [
    "loss_values = clf.loss_curve_"
   ]
  },
  {
   "cell_type": "code",
   "execution_count": 90,
   "metadata": {},
   "outputs": [
    {
     "data": {
      "text/plain": [
       "[<matplotlib.lines.Line2D at 0x196c64289b0>]"
      ]
     },
     "execution_count": 90,
     "metadata": {},
     "output_type": "execute_result"
    },
    {
     "data": {
      "image/png": "[encoded data removed]",
      "text/plain": [
       "<Figure size 432x288 with 1 Axes>"
      ]
     },
     "metadata": {
      "needs_background": "light"
     },
     "output_type": "display_data"
    }
   ],
   "source": [
    "plt.plot(loss_values)"
   ]
  },
  {
   "cell_type": "code",
   "execution_count": 61,
   "metadata": {},
   "outputs": [
    {
     "data": {
      "text/plain": [
       "array([ 0.,  0.,  0., 12., 13.,  5.,  0.,  0.,  0.,  0.,  0., 11., 16.,\n",
       "        9.,  0.,  0.,  0.,  0.,  3., 15., 16.,  6.,  0.,  0.,  0.,  7.,\n",
       "       15., 16., 16.,  2.,  0.,  0.,  0.,  0.,  1., 16., 16.,  3.,  0.,\n",
       "        0.,  0.,  0.,  1., 16., 16.,  6.,  0.,  0.,  0.,  0.,  1., 16.,\n",
       "       16.,  6.,  0.,  0.,  0.,  0.,  0., 11., 16., 10.,  0.,  0.])"
      ]
     },
     "execution_count": 61,
     "metadata": {},
     "output_type": "execute_result"
    }
   ],
   "source": [
    "digits.data[1]"
   ]
  },
  {
   "cell_type": "code",
   "execution_count": 42,
   "metadata": {},
   "outputs": [
    {
     "data": {
      "text/plain": [
       "array([0, 1, 2, 3, 4, 5, 6, 7, 8, 9])"
      ]
     },
     "execution_count": 42,
     "metadata": {},
     "output_type": "execute_result"
    }
   ],
   "source": [
    "digits.target_names"
   ]
  },
  {
   "cell_type": "code",
   "execution_count": 43,
   "metadata": {},
   "outputs": [
    {
     "data": {
      "text/plain": [
       "(1797,)"
      ]
     },
     "execution_count": 43,
     "metadata": {},
     "output_type": "execute_result"
    }
   ],
   "source": [
    "digits.target.shape"
   ]
  },
  {
   "cell_type": "code",
   "execution_count": 62,
   "metadata": {},
   "outputs": [
    {
     "data": {
      "text/plain": [
       "<matplotlib.image.AxesImage at 0x1e479955da0>"
      ]
     },
     "execution_count": 62,
     "metadata": {},
     "output_type": "execute_result"
    },
    {
     "data": {
      "text/plain": [
       "<Figure size 432x288 with 0 Axes>"
      ]
     },
     "metadata": {},
     "output_type": "display_data"
    },
    {
     "data": {
      "image/png": "[encoded data removed]",
      "text/plain": [
       "<Figure size 288x288 with 1 Axes>"
      ]
     },
     "metadata": {
      "needs_background": "light"
     },
     "output_type": "display_data"
    }
   ],
   "source": [
    "import matplotlib.pyplot as plt \n",
    "plt.gray() \n",
    "plt.matshow(digits.images[1]) "
   ]
  },
  {
   "cell_type": "code",
   "execution_count": 38,
   "metadata": {},
   "outputs": [],
   "source": [
    "X = digits.data\n",
    "y = digits.target\n",
    "# Membagi data training dan testing(80:20)\n",
    "x_train, x_test, y_train, y_test = train_test_split(X,y, test_size= 1, random_state=1)"
   ]
  },
  {
   "cell_type": "code",
   "execution_count": 39,
   "metadata": {},
   "outputs": [
    {
     "data": {
      "text/plain": [
       "(1796, 64)"
      ]
     },
     "execution_count": 39,
     "metadata": {},
     "output_type": "execute_result"
    }
   ],
   "source": [
    "x_train.shape"
   ]
  },
  {
   "cell_type": "code",
   "execution_count": 40,
   "metadata": {},
   "outputs": [
    {
     "data": {
      "text/plain": [
       "(1, 64)"
      ]
     },
     "execution_count": 40,
     "metadata": {},
     "output_type": "execute_result"
    }
   ],
   "source": [
    "x_test.shape"
   ]
  },
  {
   "cell_type": "code",
   "execution_count": 41,
   "metadata": {},
   "outputs": [
    {
     "data": {
      "text/plain": [
       "(1796,)"
      ]
     },
     "execution_count": 41,
     "metadata": {},
     "output_type": "execute_result"
    }
   ],
   "source": [
    "y_train.shape"
   ]
  },
  {
   "cell_type": "code",
   "execution_count": 42,
   "metadata": {},
   "outputs": [
    {
     "data": {
      "text/plain": [
       "(1,)"
      ]
     },
     "execution_count": 42,
     "metadata": {},
     "output_type": "execute_result"
    }
   ],
   "source": [
    "y_test.shape"
   ]
  },
  {
   "cell_type": "code",
   "execution_count": 43,
   "metadata": {},
   "outputs": [
    {
     "data": {
      "text/plain": [
       "(1797, 64)"
      ]
     },
     "execution_count": 43,
     "metadata": {},
     "output_type": "execute_result"
    }
   ],
   "source": [
    "digits.data.shape"
   ]
  },
  {
   "cell_type": "code",
   "execution_count": 99,
   "metadata": {},
   "outputs": [],
   "source": [
    "clf = MLPClassifier(hidden_layer_sizes=(10,10,10),  max_iter=200, alpha=0.0001,activation='logistic',\n",
    "                     solver='adam', verbose=10,  random_state=21,tol=0.000000001)"
   ]
  },
  {
   "cell_type": "code",
   "execution_count": 100,
   "metadata": {},
   "outputs": [
    {
     "name": "stdout",
     "output_type": "stream",
     "text": [
      "Iteration 1, loss = 2.34735149\n",
      "Iteration 2, loss = 2.33423231\n",
      "Iteration 3, loss = 2.32405763\n",
      "Iteration 4, loss = 2.31677038\n",
      "Iteration 5, loss = 2.31024839\n",
      "Iteration 6, loss = 2.30617562\n",
      "Iteration 7, loss = 2.30224245\n",
      "Iteration 8, loss = 2.29893185\n",
      "Iteration 9, loss = 2.29608239\n",
      "Iteration 10, loss = 2.29345420\n",
      "Iteration 11, loss = 2.29102306\n",
      "Iteration 12, loss = 2.28845313\n",
      "Iteration 13, loss = 2.28561041\n",
      "Iteration 14, loss = 2.28290717\n",
      "Iteration 15, loss = 2.27981860\n",
      "Iteration 16, loss = 2.27621381\n",
      "Iteration 17, loss = 2.27241621\n",
      "Iteration 18, loss = 2.26794171\n",
      "Iteration 19, loss = 2.26305019\n",
      "Iteration 20, loss = 2.25746224\n",
      "Iteration 21, loss = 2.25103178\n",
      "Iteration 22, loss = 2.24334149\n",
      "Iteration 23, loss = 2.23484899\n",
      "Iteration 24, loss = 2.22534005\n",
      "Iteration 25, loss = 2.21471035\n",
      "Iteration 26, loss = 2.20317065\n",
      "Iteration 27, loss = 2.19027887\n",
      "Iteration 28, loss = 2.17596838\n",
      "Iteration 29, loss = 2.16107747\n",
      "Iteration 30, loss = 2.14465960\n",
      "Iteration 31, loss = 2.12728335\n",
      "Iteration 32, loss = 2.10894869\n",
      "Iteration 33, loss = 2.09006211\n",
      "Iteration 34, loss = 2.07065401\n",
      "Iteration 35, loss = 2.05139053\n",
      "Iteration 36, loss = 2.03195392\n",
      "Iteration 37, loss = 2.01254079\n",
      "Iteration 38, loss = 1.99393625\n",
      "Iteration 39, loss = 1.97534828\n",
      "Iteration 40, loss = 1.95785136\n",
      "Iteration 41, loss = 1.94149728\n",
      "Iteration 42, loss = 1.92453309\n",
      "Iteration 43, loss = 1.90921079\n",
      "Iteration 44, loss = 1.89317831\n",
      "Iteration 45, loss = 1.87923097\n",
      "Iteration 46, loss = 1.86530277\n",
      "Iteration 47, loss = 1.85202805\n",
      "Iteration 48, loss = 1.83929119\n",
      "Iteration 49, loss = 1.82713284\n",
      "Iteration 50, loss = 1.81498618\n",
      "Iteration 51, loss = 1.80381957\n",
      "Iteration 52, loss = 1.79298707\n",
      "Iteration 53, loss = 1.78179656\n",
      "Iteration 54, loss = 1.77061194\n",
      "Iteration 55, loss = 1.76052972\n",
      "Iteration 56, loss = 1.74994237\n",
      "Iteration 57, loss = 1.74016243\n",
      "Iteration 58, loss = 1.73030723\n",
      "Iteration 59, loss = 1.71958344\n",
      "Iteration 60, loss = 1.70959949\n",
      "Iteration 61, loss = 1.69971425\n",
      "Iteration 62, loss = 1.68976853\n",
      "Iteration 63, loss = 1.67995599\n",
      "Iteration 64, loss = 1.66897472\n",
      "Iteration 65, loss = 1.65877541\n",
      "Iteration 66, loss = 1.64826987\n",
      "Iteration 67, loss = 1.63740000\n",
      "Iteration 68, loss = 1.62658402\n",
      "Iteration 69, loss = 1.61532490\n",
      "Iteration 70, loss = 1.60437892\n",
      "Iteration 71, loss = 1.59279967\n",
      "Iteration 72, loss = 1.58201239\n",
      "Iteration 73, loss = 1.56929159\n",
      "Iteration 74, loss = 1.55780685\n",
      "Iteration 75, loss = 1.54647114\n",
      "Iteration 76, loss = 1.53420813\n",
      "Iteration 77, loss = 1.52210623\n",
      "Iteration 78, loss = 1.50960351\n",
      "Iteration 79, loss = 1.49763512\n",
      "Iteration 80, loss = 1.48498499\n",
      "Iteration 81, loss = 1.47298592\n",
      "Iteration 82, loss = 1.46079038\n",
      "Iteration 83, loss = 1.44907215\n",
      "Iteration 84, loss = 1.43723402\n",
      "Iteration 85, loss = 1.42511820\n",
      "Iteration 86, loss = 1.41424924\n",
      "Iteration 87, loss = 1.40223845\n",
      "Iteration 88, loss = 1.39207220\n",
      "Iteration 89, loss = 1.38188367\n",
      "Iteration 90, loss = 1.36936465\n",
      "Iteration 91, loss = 1.35897454\n",
      "Iteration 92, loss = 1.34839387\n",
      "Iteration 93, loss = 1.33841960\n",
      "Iteration 94, loss = 1.32908804\n",
      "Iteration 95, loss = 1.31844141\n",
      "Iteration 96, loss = 1.30827078\n",
      "Iteration 97, loss = 1.29924872\n",
      "Iteration 98, loss = 1.28976980\n",
      "Iteration 99, loss = 1.28042981\n",
      "Iteration 100, loss = 1.27144026\n",
      "Iteration 101, loss = 1.26284754\n",
      "Iteration 102, loss = 1.25401399\n",
      "Iteration 103, loss = 1.24575608\n",
      "Iteration 104, loss = 1.23792940\n",
      "Iteration 105, loss = 1.22988889\n",
      "Iteration 106, loss = 1.22190985\n",
      "Iteration 107, loss = 1.21314835\n",
      "Iteration 108, loss = 1.20511805\n",
      "Iteration 109, loss = 1.19773936\n",
      "Iteration 110, loss = 1.19029414\n",
      "Iteration 111, loss = 1.18287665\n",
      "Iteration 112, loss = 1.17549807\n",
      "Iteration 113, loss = 1.16823294\n",
      "Iteration 114, loss = 1.16072885\n",
      "Iteration 115, loss = 1.15378201\n",
      "Iteration 116, loss = 1.14655077\n",
      "Iteration 117, loss = 1.13954098\n",
      "Iteration 118, loss = 1.13281268\n",
      "Iteration 119, loss = 1.12630815\n",
      "Iteration 120, loss = 1.11940417\n",
      "Iteration 121, loss = 1.11198229\n",
      "Iteration 122, loss = 1.10545847\n",
      "Iteration 123, loss = 1.09858527\n",
      "Iteration 124, loss = 1.09190225\n",
      "Iteration 125, loss = 1.08532773\n",
      "Iteration 126, loss = 1.07884235\n",
      "Iteration 127, loss = 1.07235286\n",
      "Iteration 128, loss = 1.06567864\n",
      "Iteration 129, loss = 1.05896759\n",
      "Iteration 130, loss = 1.05260029\n",
      "Iteration 131, loss = 1.04618034\n",
      "Iteration 132, loss = 1.04021736\n",
      "Iteration 133, loss = 1.03365410\n",
      "Iteration 134, loss = 1.02727812\n",
      "Iteration 135, loss = 1.02154143\n",
      "Iteration 136, loss = 1.01486662\n",
      "Iteration 137, loss = 1.00920220\n",
      "Iteration 138, loss = 1.00292527\n",
      "Iteration 139, loss = 0.99753260\n",
      "Iteration 140, loss = 0.99115294\n",
      "Iteration 141, loss = 0.98528075\n",
      "Iteration 142, loss = 0.97901900\n",
      "Iteration 143, loss = 0.97369953\n",
      "Iteration 144, loss = 0.96819653\n",
      "Iteration 145, loss = 0.96196230\n",
      "Iteration 146, loss = 0.95619747\n",
      "Iteration 147, loss = 0.95088575\n",
      "Iteration 148, loss = 0.94523744\n",
      "Iteration 149, loss = 0.93960855\n",
      "Iteration 150, loss = 0.93428341\n",
      "Iteration 151, loss = 0.92826344\n",
      "Iteration 152, loss = 0.92255599\n",
      "Iteration 153, loss = 0.91687404\n",
      "Iteration 154, loss = 0.91272293\n",
      "Iteration 155, loss = 0.90709570\n",
      "Iteration 156, loss = 0.90170405\n",
      "Iteration 157, loss = 0.89657110\n",
      "Iteration 158, loss = 0.89092491\n",
      "Iteration 159, loss = 0.88616004\n",
      "Iteration 160, loss = 0.88014876\n",
      "Iteration 161, loss = 0.87607162\n",
      "Iteration 162, loss = 0.87128871\n",
      "Iteration 163, loss = 0.86609708\n",
      "Iteration 164, loss = 0.86140510\n",
      "Iteration 165, loss = 0.85704605\n",
      "Iteration 166, loss = 0.85334918\n",
      "Iteration 167, loss = 0.84809743\n",
      "Iteration 168, loss = 0.84268032\n",
      "Iteration 169, loss = 0.83799567\n",
      "Iteration 170, loss = 0.83450871\n",
      "Iteration 171, loss = 0.82922573\n",
      "Iteration 172, loss = 0.82448270\n",
      "Iteration 173, loss = 0.82054303\n",
      "Iteration 174, loss = 0.81645530\n",
      "Iteration 175, loss = 0.81191879\n",
      "Iteration 176, loss = 0.80781928\n",
      "Iteration 177, loss = 0.80291269\n",
      "Iteration 178, loss = 0.79904622\n",
      "Iteration 179, loss = 0.79444798\n",
      "Iteration 180, loss = 0.79062662\n",
      "Iteration 181, loss = 0.78677404\n",
      "Iteration 182, loss = 0.78218625\n",
      "Iteration 183, loss = 0.77791175\n",
      "Iteration 184, loss = 0.77425667\n",
      "Iteration 185, loss = 0.77041176\n",
      "Iteration 186, loss = 0.76590602\n",
      "Iteration 187, loss = 0.76250517\n",
      "Iteration 188, loss = 0.75821996\n",
      "Iteration 189, loss = 0.75481923\n",
      "Iteration 190, loss = 0.75050537\n",
      "Iteration 191, loss = 0.74648040\n",
      "Iteration 192, loss = 0.74238287\n",
      "Iteration 193, loss = 0.73899486\n",
      "Iteration 194, loss = 0.73498673\n",
      "Iteration 195, loss = 0.73180976\n",
      "Iteration 196, loss = 0.72897300\n",
      "Iteration 197, loss = 0.72464699\n",
      "Iteration 198, loss = 0.72058919\n",
      "Iteration 199, loss = 0.71666643\n",
      "Iteration 200, loss = 0.71295656\n"
     ]
    },
    {
     "name": "stderr",
     "output_type": "stream",
     "text": [
      "c:\\users\\user\\miniconda3\\lib\\site-packages\\sklearn\\neural_network\\multilayer_perceptron.py:562: ConvergenceWarning: Stochastic Optimizer: Maximum iterations (200) reached and the optimization hasn't converged yet.\n",
      "  % self.max_iter, ConvergenceWarning)\n"
     ]
    }
   ],
   "source": [
    "clf.fit(x_train, y_train)\n",
    "y_pred = clf.predict(x_test)"
   ]
  },
  {
   "cell_type": "code",
   "execution_count": 101,
   "metadata": {},
   "outputs": [],
   "source": [
    "loss_values = clf.loss_curve_"
   ]
  },
  {
   "cell_type": "code",
   "execution_count": 102,
   "metadata": {},
   "outputs": [
    {
     "data": {
      "text/plain": [
       "[<matplotlib.lines.Line2D at 0x196c75259b0>]"
      ]
     },
     "execution_count": 102,
     "metadata": {},
     "output_type": "execute_result"
    },
    {
     "data": {
      "image/png": "[encoded data removed]",
      "text/plain": [
       "<Figure size 432x288 with 1 Axes>"
      ]
     },
     "metadata": {
      "needs_background": "light"
     },
     "output_type": "display_data"
    }
   ],
   "source": [
    "plt.plot(loss_values)"
   ]
  },
  {
   "cell_type": "code",
   "execution_count": null,
   "metadata": {},
   "outputs": [],
   "source": []
  }
 ],
 "metadata": {
  "kernelspec": {
   "display_name": "Python 3",
   "language": "python",
   "name": "python3"
  },
  "language_info": {
   "codemirror_mode": {
    "name": "ipython",
    "version": 3
   },
   "file_extension": ".py",
   "mimetype": "text/x-python",
   "name": "python",
   "nbconvert_exporter": "python",
   "pygments_lexer": "ipython3",
   "version": "3.7.0"
  }
 },
 "nbformat": 4,
 "nbformat_minor": 2
}
